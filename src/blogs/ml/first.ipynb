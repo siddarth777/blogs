{
 "cells": [
  {
   "cell_type": "markdown",
   "id": "d6b210be",
   "metadata": {},
   "source": [
    "Intro to Machine Learning ->\n",
    "ML - what is it? \n",
    "It is a glorified mathematical function,a simple mapping of numbers which goes beyond our comprehension\n",
    "\n",
    "Pre-requisite - Maths;Numpy;Pandas;Matplotlib;"
   ]
  },
  {
   "cell_type": "code",
   "execution_count": 1,
   "id": "292c3cb3",
   "metadata": {},
   "outputs": [
    {
     "name": "stdout",
     "output_type": "stream",
     "text": [
      "<class 'list'>\n",
      "<class 'numpy.ndarray'>\n"
     ]
    }
   ],
   "source": [
    "import numpy\n",
    "\n",
    "list = [1,2,3,4]\n",
    "\n",
    "numpy_arr = numpy.ndarray(list)\n",
    "\n",
    "print(type(list))\n",
    "print(type((numpy_arr)))"
   ]
  },
  {
   "cell_type": "code",
   "execution_count": null,
   "id": "d601fa77",
   "metadata": {},
   "outputs": [],
   "source": []
  }
 ],
 "metadata": {
  "kernelspec": {
   "display_name": "Python 3",
   "language": "python",
   "name": "python3"
  },
  "language_info": {
   "codemirror_mode": {
    "name": "ipython",
    "version": 3
   },
   "file_extension": ".py",
   "mimetype": "text/x-python",
   "name": "python",
   "nbconvert_exporter": "python",
   "pygments_lexer": "ipython3",
   "version": "3.11.9"
  }
 },
 "nbformat": 4,
 "nbformat_minor": 5
}
